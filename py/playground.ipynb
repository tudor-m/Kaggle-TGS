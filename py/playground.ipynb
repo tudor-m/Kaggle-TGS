{
 "cells": [
  {
   "cell_type": "code",
   "execution_count": null,
   "metadata": {},
   "outputs": [],
   "source": [
    "\n"
   ]
  },
  {
   "cell_type": "code",
   "execution_count": null,
   "metadata": {},
   "outputs": [],
   "source": [
    "from __future__ import division\n",
    "import numpy as np\n",
    "import pandas as pd\n",
    "import keras.preprocessing.image as ks_pre_img\n",
    "import skimage.io as sk_io\n",
    "import matplotlib.pyplot as plt\n",
    "\n",
    "import skimage.transform as sk_tr\n",
    "\n"
   ]
  },
  {
   "cell_type": "code",
   "execution_count": null,
   "metadata": {},
   "outputs": [],
   "source": [
    "train_df = pd.read_csv(\"../input/train.csv\", index_col=\"id\", usecols=[0])[0:20]"
   ]
  },
  {
   "cell_type": "code",
   "execution_count": null,
   "metadata": {},
   "outputs": [],
   "source": [
    "# keras: 0..255 values (grauyscale)\n",
    "train_df[\"ks_images\"] = [np.array(ks_pre_img.load_img(\"../input/train/images/{}.png\".format(idx),\\\n",
    "                                                      #interpolation = \"nearest\",\\\n",
    "                                                  grayscale=True)) for idx in train_df.index]\n",
    "# skimage: 0 .. 1 values (3 colors flatten to one)\n",
    "train_df[\"sci_image\"] = [np.array(sk_io.imread(\"../input/train/images/{}.png\".format(idx),\\\n",
    "                                               flatten=True,plugin='pil')) \\\n",
    "                      for idx in train_df.index]\n",
    "\n",
    "train_df[\"masks\"] = [np.array(ks_pre_img.load_img(\"../input/train/masks/{}.png\".format(idx),\\\n",
    "                                                  grayscale=True)) / 255 for idx in train_df.index]"
   ]
  },
  {
   "cell_type": "code",
   "execution_count": null,
   "metadata": {},
   "outputs": [],
   "source": [
    "\"keras:\",train_df.ks_images[0].shape,\" skimage:\",train_df.sci_image[0].shape"
   ]
  },
  {
   "cell_type": "code",
   "execution_count": null,
   "metadata": {},
   "outputs": [],
   "source": [
    "im1 = (train_df[\"ks_images\"][15]/255)"
   ]
  },
  {
   "cell_type": "code",
   "execution_count": null,
   "metadata": {},
   "outputs": [],
   "source": [
    "im2 = (train_df[\"masks\"][15])"
   ]
  },
  {
   "cell_type": "code",
   "execution_count": null,
   "metadata": {},
   "outputs": [],
   "source": [
    "imgplot = plt.imshow(im1,cmap=\"gray\")\n",
    "plt.colorbar()"
   ]
  },
  {
   "cell_type": "code",
   "execution_count": null,
   "metadata": {},
   "outputs": [],
   "source": [
    "imgplot = plt.imshow(im2,cmap=\"gray\")\n",
    "plt.colorbar()"
   ]
  },
  {
   "cell_type": "markdown",
   "metadata": {},
   "source": [
    "## warp an image"
   ]
  },
  {
   "cell_type": "code",
   "execution_count": null,
   "metadata": {},
   "outputs": [],
   "source": [
    "# im_in\n",
    "\n",
    "def warp_an_image(im_in,n1=6,n2=6):\n",
    "    from skimage.transform import PiecewiseAffineTransform, warp, resize\n",
    "    import skimage.util\n",
    "\n",
    "    rows,cols = im_in.shape[0], im_in.shape[1]\n",
    "    im_in_rows = np.linspace(0, cols, 20)\n",
    "    im_in_cols = np.linspace(0, rows, 10)\n",
    "    src_rows, src_cols = np.meshgrid(im_in_rows, im_in_cols)\n",
    "\n",
    "    src = np.dstack([src_cols.flat, src_rows.flat])[0]\n",
    "\n",
    "    # add sinusoidal oscillation to row coordinates:\n",
    "    dst_rows = src[:, 1] - np.sin(np.linspace(0, n2 * np.pi, src.shape[0])) * n1\n",
    "    dst_cols = src[:, 0]\n",
    "\n",
    "    #dst_rows *= 1.\n",
    "    #dst_rows -= 1. * n1\n",
    "    dst = np.vstack([dst_cols, dst_rows]).T\n",
    "\n",
    "    tform = PiecewiseAffineTransform()\n",
    "    tform.estimate(src, dst)\n",
    "\n",
    "    out_rows = im_in.shape[0]# - 1. * n1\n",
    "    out_cols = cols\n",
    "    out = warp(im_in, tform, output_shape=(out_rows, out_cols))\n",
    "    out = out[15:85,15:85]\n",
    "    out = resize(out,(101,101))\n",
    "    \n",
    "    return out"
   ]
  },
  {
   "cell_type": "code",
   "execution_count": null,
   "metadata": {},
   "outputs": [],
   "source": [
    "imgplot = plt.imshow(warp_an_image(im1,18,12))\n",
    "plt.colorbar()"
   ]
  },
  {
   "cell_type": "code",
   "execution_count": null,
   "metadata": {},
   "outputs": [],
   "source": [
    "imgplot = plt.imshow(warp_an_image(im2,18,12),cmap=\"gray\")\n",
    "plt.colorbar()"
   ]
  },
  {
   "cell_type": "markdown",
   "metadata": {},
   "source": [
    "## swirl an image"
   ]
  },
  {
   "cell_type": "code",
   "execution_count": null,
   "metadata": {},
   "outputs": [],
   "source": [
    "def swirl_an_image(im_in):\n",
    "    from skimage.transform import swirl\n",
    "    return(swirl(im_in,strength=2))\n"
   ]
  },
  {
   "cell_type": "code",
   "execution_count": null,
   "metadata": {},
   "outputs": [],
   "source": []
  },
  {
   "cell_type": "code",
   "execution_count": null,
   "metadata": {},
   "outputs": [],
   "source": []
  },
  {
   "cell_type": "code",
   "execution_count": null,
   "metadata": {},
   "outputs": [],
   "source": [
    "imgplot = plt.imshow(swirl_an_image(im1))\n",
    "plt.colorbar()"
   ]
  },
  {
   "cell_type": "code",
   "execution_count": null,
   "metadata": {},
   "outputs": [],
   "source": [
    "imgplot = plt.imshow(swirl_an_image(im2))\n",
    "plt.colorbar()"
   ]
  },
  {
   "cell_type": "code",
   "execution_count": null,
   "metadata": {},
   "outputs": [],
   "source": [
    "# Warp Augumentation\n",
    "# im1\n",
    "\n",
    "from skimage.transform import PiecewiseAffineTransform, warp\n",
    "\n",
    "rows,cols = im1.shape[0], im1.shape[1]\n",
    "src_cols = np.linspace(0, cols, 20)\n",
    "src_rows = np.linspace(0, rows, 10)\n",
    "src_rows, src_cols = np.meshgrid(src_rows, src_cols)\n",
    "\n",
    "\n",
    "image_orig = x1\n",
    "image = x1\n",
    "rows, cols = image.shape[0], image.shape[1]\n",
    "n1 = 6\n",
    "n2 = 4\n",
    "src = np.dstack([src_cols.flat, src_rows.flat])[0]\n",
    "\n",
    "# add sinusoidal oscillation to row coordinates\n",
    "#dst_rows = src[:, 1] - np.sin(np.linspace(0, 3 * np.pi, src.shape[0])) * 50\n",
    "dst_rows = src[:, 1] - np.sin(np.linspace(0, n2 * np.pi, src.shape[0])) * n1\n",
    "dst_cols = src[:, 0]\n",
    "\n",
    "dst_rows *= 1.\n",
    "dst_rows -= 1. * n1\n",
    "dst = np.vstack([dst_cols, dst_rows]).T\n",
    "\n",
    "tform = PiecewiseAffineTransform()\n",
    "tform.estimate(src, dst)\n",
    "\n",
    "out_rows = image.shape[0] - 1. * n1\n",
    "out_rows = rows\n",
    "out_cols = cols\n",
    "out = warp(image, tform, output_shape=(out_rows, out_cols))\n"
   ]
  },
  {
   "cell_type": "code",
   "execution_count": null,
   "metadata": {},
   "outputs": [],
   "source": []
  }
 ],
 "metadata": {
  "kernelspec": {
   "display_name": "Python 3",
   "language": "python",
   "name": "python3"
  },
  "language_info": {
   "codemirror_mode": {
    "name": "ipython",
    "version": 3
   },
   "file_extension": ".py",
   "mimetype": "text/x-python",
   "name": "python",
   "nbconvert_exporter": "python",
   "pygments_lexer": "ipython3",
   "version": "3.6.6"
  }
 },
 "nbformat": 4,
 "nbformat_minor": 2
}
