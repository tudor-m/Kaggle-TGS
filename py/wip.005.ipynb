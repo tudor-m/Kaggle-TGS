{
  "cells": [
    {
      "metadata": {
        "trusted": true,
        "_uuid": "4cac5e4652a641fac2e64b12537feeb5746cf512",
        "_kg_hide-output": false,
        "collapsed": true
      },
      "cell_type": "code",
      "source": "# wip.005",
      "execution_count": null,
      "outputs": []
    },
    {
      "metadata": {
        "_uuid": "fa525d982fdb7e518de47cd8ec52f6ee868d312b"
      },
      "cell_type": "markdown",
      "source": "## Update\n- Use UpSample2d+Conv2d instead of ConvTrans2D, see comments for detail\n- Add Batch Normalization layer after each conv\n- You can use crf method (https://www.kaggle.com/meaninglesslives/apply-crf) to improve the result \n## Changelog\n- Changed uncov to uconv, but removed the dropout in the last layer\n- Corrected sanity check of predicted validation data (changed from ids_train to ids_valid)\n- Used correct mask (from original train_df) for threshold tuning (inserted y_valid_ori)"
    },
    {
      "metadata": {
        "_uuid": "77e05df3218e009eafa91b1afffbb5cdd6535a41",
        "trusted": true,
        "collapsed": true
      },
      "cell_type": "code",
      "source": "",
      "execution_count": null,
      "outputs": []
    },
    {
      "metadata": {
        "_uuid": "ada861a85e9549dca27667692da408c5fdccbaa5"
      },
      "cell_type": "markdown",
      "source": "# About\nSince I am new to learning from image segmentation and kaggle in general I want to share my noteook.\nI saw it is similar to others as it uses the U-net approach. I want to share it anyway because:\n\n- As said, the field is new to me so I am open to suggestions.\n- It visualizes some of the steps, e.g. scaling, to learn if the methods do what I expect which might be useful to others (I call them sanity checks).\n- Added stratification by the amount of salt contained in the image.\n- Added augmentation by flipping the images along the y axes (thanks to the forum for clarification).\n- Added dropout to the model which seems to improve performance."
    },
    {
      "metadata": {
        "_cell_guid": "b1076dfc-b9ad-4769-8c92-a6c4dae69d19",
        "_uuid": "8f2839f25d086af736a60e9eeb907d3b93b6e0e5",
        "trusted": true
      },
      "cell_type": "code",
      "source": "from __future__ import division\nimport numpy as np\nimport pandas as pd\n\nfrom random import randint\n\nimport matplotlib.pyplot as plt\nplt.style.use('seaborn-white')\nimport seaborn as sns\nsns.set_style(\"white\")\n\nfrom sklearn.model_selection import train_test_split\n\nfrom skimage.transform import resize\nfrom skimage.transform import rotate\n\nfrom keras.preprocessing.image import load_img\nfrom keras import Model\nfrom keras.callbacks import EarlyStopping, ModelCheckpoint, ReduceLROnPlateau\nfrom keras.models import load_model\nfrom keras.optimizers import Adam\nfrom keras.utils.vis_utils import plot_model\nfrom keras.preprocessing.image import ImageDataGenerator\nfrom keras.layers import Input, Conv2D, Conv2DTranspose, MaxPooling2D, concatenate, Dropout,BatchNormalization\nfrom keras.layers import Conv2D, Concatenate, MaxPooling2D\nfrom keras.layers import UpSampling2D, Dropout, BatchNormalization\nfrom tqdm import tqdm_notebook",
      "execution_count": null,
      "outputs": []
    },
    {
      "metadata": {
        "_uuid": "962c2c6775b5fcf605df8e7c59cbcabe6ba9ceaa"
      },
      "cell_type": "markdown",
      "source": "# Params and helpers"
    },
    {
      "metadata": {
        "_uuid": "e54e151245d665e42bb95d9cf2e1a33cb9440e48",
        "trusted": true,
        "collapsed": true
      },
      "cell_type": "code",
      "source": "img_size_ori = 101\nimg_size_target = 128\n\ndef upsample(img):\n    if img_size_ori == img_size_target:\n        return img\n    return resize(img, (img_size_target, img_size_target), mode='constant', preserve_range=True)\n    #res = np.zeros((img_size_target, img_size_target), dtype=img.dtype)\n    #res[:img_size_ori, :img_size_ori] = img\n    #return res\n    \ndef downsample(img):\n    if img_size_ori == img_size_target:\n        return img\n    return resize(img, (img_size_ori, img_size_ori), mode='constant', preserve_range=True)\n    #return img[:img_size_ori, :img_size_ori]\n    \ndef img_mask_plot(img,mask):\n    fix, axs = plt.subplots(1, 2, figsize=(10,10))\n    axs[0].imshow(img.squeeze(), cmap=\"Greys\")\n    axs[0].set_title(\"Image\")\n\n    axs[1].imshow(mask.squeeze(), cmap=\"Greys\")\n    axs[1].set_title(\"Mask\")\n    \ndef img_3_plot(img1,img2,img3,tit=\"\",tits=[\"Img1\",\"Img2\",\"Img3\"]):\n    fix, axs = plt.subplots(1, 3, figsize=(8,8))\n    fix.suptitle(tit,fontsize=10)\n    axs[0].imshow(img1.squeeze(), cmap=\"Greys\")\n    axs[0].set_title(tits[0])\n    axs[1].imshow(img2.squeeze(), cmap=\"Greys\")\n    axs[1].set_title(tits[1])\n    axs[2].imshow(img3.squeeze(), cmap=\"Greys\")\n    axs[2].set_title(tits[2])\n    fix.subplots_adjust(top=1.5)\n    plt.show()\n\ndef iou_clean_old(y_true_in, y_pred_in, print_table=False):\n    labels = y_true_in\n    y_pred = y_pred_in\n    \n    true_objects = 2\n    pred_objects = 2\n\n    intersection = np.histogram2d(labels.flatten(), y_pred.flatten(), bins=(true_objects, pred_objects))[0]\n\n    # Compute areas (needed for finding the union between all objects)\n    area_true = np.histogram(labels, bins = true_objects)[0]\n    area_pred = np.histogram(y_pred, bins = pred_objects)[0]\n    area_true = np.expand_dims(area_true, -1)\n    area_pred = np.expand_dims(area_pred, 0)\n\n    # Compute union\n    union = area_true + area_pred - intersection\n\n    # Exclude background from the analysis\n    intersection = intersection[1:,1:]\n    union = union[1:,1:]\n    union[union == 0] = 1e-9\n\n    # Compute the intersection over union\n    iou = intersection / union\n    \n    if print_table:\n        print(\"AP\\t-\\t-\\t-\\t{:1.3f}\".format(np.mean(prec)))\n    return iou\n\ndef iou_clean(y_true_in, y_pred_in):\n    intr = np.sum((y_true_in+y_pred_in)==2)\n    unio = np.sum(y_true_in+y_pred_in)-intr\n    if unio == 0:\n        ret = 1\n    else:\n        ret = intr/unio\n    return ret\n\ndef prec_clean(y_true_in, y_pred_in):\n    tp = np.sum((y_true_in+y_pred_in)==2)\n    fp = np.sum(y_true_in == (y_pred_in+1))\n    fn = np.sum(y_true_in == (y_pred_in-1))\n    sum_p = tp+fp+fn\n    if sum_p == 0:\n        pr = 1\n    else:\n        pr = tp/sum_p\n    return pr\n    \n\ndef iou_clean_batch(y_true_in, y_pred_in):\n    import numpy as np\n    batch_size = y_true_in.shape[0]\n    metric = []\n    for batch in range(batch_size):\n        value = iou_clean(y_true_in[batch], y_pred_in[batch])\n        metric.append(value)\n    return np.array(metric)\n\ndef prec_clean_batch(y_true_in, y_pred_in):\n    import numpy as np\n    batch_size = y_true_in.shape[0]\n    prec = []\n    for batch in range(batch_size):\n        value = prec_clean(y_true_in[batch], y_pred_in[batch])\n        prec.append(value)\n    return np.array(prec)\n\n",
      "execution_count": null,
      "outputs": []
    },
    {
      "metadata": {
        "trusted": true,
        "_uuid": "31511499d3f16e6a484b0effbf213dc45755d651",
        "collapsed": true
      },
      "cell_type": "code",
      "source": "",
      "execution_count": null,
      "outputs": []
    },
    {
      "metadata": {
        "_uuid": "530c358f2868a444e8233936996463a66c2cc4f3"
      },
      "cell_type": "markdown",
      "source": "# Loading of training/testing ids and depths\nReading the training data and the depths, store them in a DataFrame. Also create a test DataFrame with entries from depth not in train."
    },
    {
      "metadata": {
        "_cell_guid": "79c7e3d0-c299-4dcb-8224-4455121ee9b0",
        "_uuid": "d629ff2d2480ee46fbb7e2d37f6b5fab8052498a",
        "trusted": true,
        "collapsed": true
      },
      "cell_type": "code",
      "source": "train_df = pd.read_csv(\"../input/train.csv\", index_col=\"id\", usecols=[0])\ndepths_df = pd.read_csv(\"../input/depths.csv\", index_col=\"id\")\ntrain_df = train_df.join(depths_df)\ntest_df = depths_df[~depths_df.index.isin(train_df.index)]",
      "execution_count": null,
      "outputs": []
    },
    {
      "metadata": {
        "_uuid": "24d7f3d982bfa582b222f012129acdda55282b6d"
      },
      "cell_type": "markdown",
      "source": "# Read images and masks\nLoad the images and masks into the DataFrame and divide the pixel values by 255."
    },
    {
      "metadata": {
        "_uuid": "b18c1f50cefd7504eae7e7b9605be3814c7cad6d",
        "trusted": true
      },
      "cell_type": "code",
      "source": "train_df[\"images\"] = [np.array(load_img(\"../input/train/images/{}.png\".format(idx), grayscale=True)) / 255 for idx in tqdm_notebook(train_df.index)]",
      "execution_count": null,
      "outputs": []
    },
    {
      "metadata": {
        "_uuid": "86620c6a070571895f4f36ec050a25803915ed74",
        "trusted": true
      },
      "cell_type": "code",
      "source": "train_df[\"masks\"] = [np.array(load_img(\"../input/train/masks/{}.png\".format(idx), grayscale=True)) / 255 for idx in tqdm_notebook(train_df.index)]",
      "execution_count": null,
      "outputs": []
    },
    {
      "metadata": {
        "trusted": true,
        "_uuid": "ad64a6689bb53e4a66febb80875dacc75f892599",
        "collapsed": true
      },
      "cell_type": "code",
      "source": "",
      "execution_count": null,
      "outputs": []
    },
    {
      "metadata": {
        "_uuid": "1137f0a009f10b5f69e4dade5f689e744e9ce1d6"
      },
      "cell_type": "markdown",
      "source": "# Calculating the salt coverage and salt coverage classes\nCounting the number of salt pixels in the masks and dividing them by the image size. Also create 11 coverage classes, -0.1 having no salt at all to 1.0 being salt only.\nPlotting the distribution of coverages and coverage classes, and the class against the raw coverage."
    },
    {
      "metadata": {
        "_uuid": "18d2aa182a44c65a87c75f41047c653a79bc1c3f",
        "trusted": true,
        "collapsed": true
      },
      "cell_type": "code",
      "source": "train_df[\"coverage\"] = train_df.masks.map(np.sum) / pow(img_size_ori, 2)",
      "execution_count": null,
      "outputs": []
    },
    {
      "metadata": {
        "_uuid": "2b13d1ecc7004832e8e042d034922796263054b7",
        "trusted": true,
        "collapsed": true
      },
      "cell_type": "code",
      "source": "n_cl = 10\ndef cov_to_class(val):    \n    for i in range(0, 1+n_cl):\n        if val * n_cl <= i :\n            return i\n        \ntrain_df[\"coverage_class\"] = train_df.coverage.map(cov_to_class)",
      "execution_count": null,
      "outputs": []
    },
    {
      "metadata": {
        "_uuid": "a5e66ff4809ea2f9a679b7ddbda5028dc324137a",
        "trusted": true
      },
      "cell_type": "code",
      "source": "fig, axs = plt.subplots(1, 2, figsize=(15,5))\nsns.distplot(train_df.coverage, kde=False, ax=axs[0])\nsns.distplot(train_df.coverage_class, bins=n_cl, kde=False, ax=axs[1])\nplt.suptitle(\"Salt coverage\")\naxs[0].set_xlabel(\"Coverage\")\naxs[1].set_xlabel(\"Coverage class\")",
      "execution_count": null,
      "outputs": []
    },
    {
      "metadata": {
        "_uuid": "0dd39993eb2c7e77e5ce2d3388ea8ff1d581a670",
        "trusted": true
      },
      "cell_type": "code",
      "source": "plt.scatter(train_df.coverage, train_df.coverage_class)\nplt.xlabel(\"Coverage\")\nplt.ylabel(\"Coverage class\")",
      "execution_count": null,
      "outputs": []
    },
    {
      "metadata": {
        "_uuid": "2391c568019151b098a002937516bb77a506f403"
      },
      "cell_type": "markdown",
      "source": "# Plotting the depth distributions\nSeparatelty plotting the depth distributions for the training and the testing data."
    },
    {
      "metadata": {
        "_uuid": "6ae7b7011b7de3caed58f9ca3939df15ffa319ad",
        "trusted": true
      },
      "cell_type": "code",
      "source": "sns.distplot(train_df.z, label=\"Train\")\nsns.distplot(test_df.z, label=\"Test\")\nplt.legend()\nplt.title(\"Depth distribution\")",
      "execution_count": null,
      "outputs": []
    },
    {
      "metadata": {
        "_uuid": "14835b3e0eafd3a1c0e3a1f18a2e7979e75d3fa3"
      },
      "cell_type": "markdown",
      "source": "# Show some example images"
    },
    {
      "metadata": {
        "trusted": true,
        "_uuid": "7fbfda6fb7c54bf483593d50732ce7603ab98049",
        "collapsed": true
      },
      "cell_type": "code",
      "source": "",
      "execution_count": null,
      "outputs": []
    },
    {
      "metadata": {
        "_uuid": "1a6bc85ee458f72c0917edf77895d5abc5eaf3ee",
        "scrolled": false,
        "trusted": true
      },
      "cell_type": "code",
      "source": "max_images = 20\ngrid_width = 10\nplot_class = 1\ngrid_height = int(max_images / grid_width)\nfig, axs = plt.subplots(grid_height, grid_width, figsize=(grid_width, grid_height))\n#for i, idx in enumerate(train_df[train_df.coverage_class==plot_class].index[:max_images]):\nfor i, idx in enumerate(train_df.index[:max_images]):\n    img = train_df.loc[idx].images\n    mask = train_df.loc[idx].masks\n    ax = axs[int(i / grid_width), i % grid_width]\n    ax.imshow(img, cmap=\"Greys\")\n    ax.imshow(mask, alpha=0.3, cmap=\"Greens\")\n    ax.text(1, img_size_ori-1, train_df.loc[idx].z, color=\"black\")\n    ax.text(img_size_ori - 1, 1, round(train_df.loc[idx].coverage, 2), color=\"black\", ha=\"right\", va=\"top\")\n    ax.text(1, 1, train_df.loc[idx].coverage_class, color=\"black\", ha=\"left\", va=\"top\")\n    ax.set_yticklabels([])\n    ax.set_xticklabels([])\nplt.suptitle(\"Green: salt. Top-left: coverage class, top-right: salt coverage, bottom-left: depth\")",
      "execution_count": null,
      "outputs": []
    },
    {
      "metadata": {
        "trusted": true,
        "_uuid": "52a77e4cc0d2b42c74d7cd9b0756a10c794c07c4",
        "collapsed": true
      },
      "cell_type": "code",
      "source": "",
      "execution_count": null,
      "outputs": []
    },
    {
      "metadata": {
        "_uuid": "00655e32f93f96ebd90dbe94e35ee052f52217cd"
      },
      "cell_type": "markdown",
      "source": "# Create train/validation split stratified by salt coverage\nUsing the salt coverage as a stratification criterion. Also show an image to check for correct upsampling."
    },
    {
      "metadata": {
        "_uuid": "2d3c3157512d11e71ac74ce51a937b85bedfe1d1",
        "trusted": true,
        "collapsed": true
      },
      "cell_type": "code",
      "source": "ids_train, ids_valid, x_train, x_valid, y_train, y_valid, cov_train, cov_test, depth_train, depth_test = train_test_split(\n    train_df.index.values,\n    np.array(train_df.images.map(upsample).tolist()).reshape(-1, img_size_target, img_size_target, 1), \n    np.array(train_df.masks.map(upsample).tolist()).reshape(-1, img_size_target, img_size_target, 1), \n    train_df.coverage.values,\n    train_df.z.values,\n    test_size=0.2, stratify=train_df.coverage_class, random_state=1337)",
      "execution_count": null,
      "outputs": []
    },
    {
      "metadata": {
        "_uuid": "f2f1ab00f03e71e6d7f9b2214408b5a9779fc235",
        "trusted": true
      },
      "cell_type": "code",
      "source": "tmp_idx = 30\ntmp_img = np.zeros((img_size_target, img_size_target), dtype=train_df.images.loc[ids_train[tmp_idx]].dtype)\ntmp_img[:img_size_ori, :img_size_ori] = train_df.images.loc[ids_train[tmp_idx]]\nfix, axs = plt.subplots(1, 2, figsize=(15,5))\naxs[0].imshow(tmp_img, cmap=\"Greys\")\naxs[0].set_title(\"Original image\")\naxs[1].imshow(x_train[tmp_idx].squeeze(), cmap=\"Greys\")\naxs[1].set_title(\"Scaled image\")",
      "execution_count": null,
      "outputs": []
    },
    {
      "metadata": {
        "trusted": true,
        "_uuid": "e6e854db24425ce8a31a3a6b1b33db8564d8f33b"
      },
      "cell_type": "code",
      "source": "tmp_idx = 30\n\nimg = x_train[tmp_idx]\nmask = y_train[tmp_idx]\n\nimg_mask_plot(x_train[tmp_idx],y_train[tmp_idx])\n\n",
      "execution_count": null,
      "outputs": []
    },
    {
      "metadata": {
        "trusted": true,
        "_uuid": "649c0495783d0d7ef6a82c81ada934542a57660b",
        "collapsed": true
      },
      "cell_type": "code",
      "source": "",
      "execution_count": null,
      "outputs": []
    },
    {
      "metadata": {
        "_uuid": "63ac58ab47921b4e4f54102e2c8b85fa318225f1"
      },
      "cell_type": "markdown",
      "source": "# Build model"
    },
    {
      "metadata": {
        "_uuid": "1aa78bd7c607e1f0e0235e4b2f82056c0361dac5",
        "trusted": true,
        "collapsed": true
      },
      "cell_type": "code",
      "source": "def conv_block(m, dim, acti, bn, res, do=0):\n\tn = Conv2D(dim, 3, activation=acti, padding='same')(m)\n\tn = BatchNormalization()(n) if bn else n\n\tn = Dropout(do)(n) if do else n\n\tn = Conv2D(dim, 3, activation=acti, padding='same')(n)\n\tn = BatchNormalization()(n) if bn else n\n\treturn Concatenate()([m, n]) if res else n\n\ndef level_block(m, dim, depth, inc, acti, do, bn, mp, up, res):\n\tif depth > 0:\n\t\tn = conv_block(m, dim, acti, bn, res)\n\t\tm = MaxPooling2D()(n) if mp else Conv2D(dim, 3, strides=2, padding='same')(n)\n\t\tm = level_block(m, int(inc*dim), depth-1, inc, acti, do, bn, mp, up, res)\n\t\tif up:\n\t\t\tm = UpSampling2D()(m)\n\t\t\tm = Conv2D(dim, 2, activation=acti, padding='same')(m)\n\t\telse:\n\t\t\tm = Conv2DTranspose(dim, 3, strides=2, activation=acti, padding='same')(m)\n\t\tn = Concatenate()([n, m])\n\t\tm = conv_block(n, dim, acti, bn, res)\n\telse:\n\t\tm = conv_block(m, dim, acti, bn, res, do)\n\treturn m\n\ndef UNet(img_shape, out_ch=1, start_ch=64, depth=4, inc_rate=2., activation='relu', \n\t\t dropout=0.5, batchnorm=False, maxpool=True, upconv=True, residual=False):\n\ti = Input(shape=img_shape)\n\to = level_block(i, start_ch, depth, inc_rate, activation, dropout, batchnorm, maxpool, upconv, residual)\n\to = Conv2D(out_ch, 1, activation='sigmoid')(o)\n\treturn Model(inputs=i, outputs=o)",
      "execution_count": null,
      "outputs": []
    },
    {
      "metadata": {
        "_uuid": "2382b088c8a6be16490354ebd386120a9ced414d",
        "trusted": true,
        "collapsed": true
      },
      "cell_type": "code",
      "source": "model = UNet((img_size_target,img_size_target,1),start_ch=16,depth=5,batchnorm=True)",
      "execution_count": null,
      "outputs": []
    },
    {
      "metadata": {
        "_uuid": "3399029adb039b049e3d6ca01fef30ed8653482b",
        "trusted": true,
        "collapsed": true
      },
      "cell_type": "code",
      "source": "model.compile(loss=\"binary_crossentropy\", optimizer=\"adam\", metrics=[\"accuracy\"])",
      "execution_count": null,
      "outputs": []
    },
    {
      "metadata": {
        "_uuid": "c7ded4adc1757c88a1bea59ea36b1a9f7941bd28",
        "trusted": true
      },
      "cell_type": "code",
      "source": "model.summary()",
      "execution_count": null,
      "outputs": []
    },
    {
      "metadata": {
        "_uuid": "c007157c2fd3d7dadcaeee2a6376351852d1e565"
      },
      "cell_type": "markdown",
      "source": "# Data augmentation"
    },
    {
      "metadata": {
        "trusted": true,
        "_uuid": "8618a66a11d998f072f8cc6fc696e332321ed1ae",
        "collapsed": true
      },
      "cell_type": "code",
      "source": "x_train_bak = x_train.copy()\ny_train_bak = y_train.copy()",
      "execution_count": null,
      "outputs": []
    },
    {
      "metadata": {
        "trusted": true,
        "_uuid": "bf85501608db1cc1562ccba314bbfc0b53f004f0"
      },
      "cell_type": "code",
      "source": "x_train_bak.shape",
      "execution_count": null,
      "outputs": []
    },
    {
      "metadata": {
        "_uuid": "88b3f57eac3ec3719b401730dc6d8d2d89d09ccc",
        "trusted": true,
        "collapsed": true
      },
      "cell_type": "code",
      "source": "# Augment with left-right flips\nx_train = np.append(x_train_bak, [np.fliplr(y) for y in x_train_bak], axis=0)\ny_train = np.append(y_train_bak, [np.fliplr(y) for y in y_train_bak], axis=0)",
      "execution_count": null,
      "outputs": []
    },
    {
      "metadata": {
        "trusted": true,
        "_uuid": "d068eb7e8f8c92d5fc2297bd1b8b16333f45e37b"
      },
      "cell_type": "code",
      "source": "x_train.shape",
      "execution_count": null,
      "outputs": []
    },
    {
      "metadata": {
        "trusted": true,
        "_uuid": "1f86c7c653e10c184a5f039a0cf89cccb0d898da",
        "collapsed": true
      },
      "cell_type": "code",
      "source": "# Augment with 60deg rotation\nx_train = np.append(x_train, [rotate(y,60) for y in x_train_bak], axis=0)\ny_train = np.append(y_train, [rotate(y,60) for y in y_train_bak], axis=0)",
      "execution_count": null,
      "outputs": []
    },
    {
      "metadata": {
        "trusted": true,
        "_uuid": "af428c5eaac10782fdc5967270fbea2d5ed86461"
      },
      "cell_type": "code",
      "source": "x_train.shape",
      "execution_count": null,
      "outputs": []
    },
    {
      "metadata": {
        "trusted": true,
        "_uuid": "1437f902962ae7dd965a04f8097babcd3824c035"
      },
      "cell_type": "code",
      "source": "depth_train.shape",
      "execution_count": null,
      "outputs": []
    },
    {
      "metadata": {
        "_uuid": "7040f72549212dd4f71c13dfbd8bf013481ea369",
        "trusted": true
      },
      "cell_type": "code",
      "source": "fig, axs = plt.subplots(3, 10, figsize=(15,3))\nfor i in range(10):\n    axs[0][i].imshow(x_train[i].squeeze(), cmap=\"Blues\")\n    axs[0][i].imshow(y_train[i].squeeze(), cmap=\"Reds\", alpha=0.3)\n    axs[1][i].imshow(x_train[int(len(x_train_bak) + i)].squeeze(), cmap=\"Blues\")\n    axs[1][i].imshow(y_train[int(len(y_train_bak) + i)].squeeze(), cmap=\"Reds\", alpha=0.3)\n    axs[2][i].imshow(x_train[2*int(len(x_train_bak)) +i].squeeze(), cmap=\"Blues\")\n    axs[2][i].imshow(y_train[2*int(len(y_train_bak)) +i].squeeze(), cmap=\"Reds\", alpha=0.3)\nfig.suptitle(\"Top row: original images, bottom row: augmented images\")",
      "execution_count": null,
      "outputs": []
    },
    {
      "metadata": {
        "_uuid": "f5a6b1abaa4681cba3b608bc5f33cf260370d82a"
      },
      "cell_type": "markdown",
      "source": "# Training"
    },
    {
      "metadata": {
        "_uuid": "f1773642758da7b4480e0e48c045bd01ea3684ae",
        "scrolled": true,
        "trusted": true
      },
      "cell_type": "code",
      "source": "early_stopping = EarlyStopping(patience=10, verbose=1)\nmodel_checkpoint = ModelCheckpoint(\"./keras.wip.005.model\", save_best_only=True, verbose=1)\nreduce_lr = ReduceLROnPlateau(factor=0.1, patience=5, min_lr=0.00001, verbose=1)\n\nepochs = 200\nbatch_size = 32\n\nhistory = model.fit(x_train, y_train,\n                    validation_data=[x_valid, y_valid], \n                    epochs=epochs,\n                    batch_size=batch_size,\n                    callbacks=[early_stopping, model_checkpoint, reduce_lr],shuffle=True)",
      "execution_count": null,
      "outputs": []
    },
    {
      "metadata": {
        "_uuid": "42e9ef3c4e0a2bb2539e5e51740ba6bfc092d37c",
        "trusted": true,
        "collapsed": true
      },
      "cell_type": "code",
      "source": "fig, (ax_loss, ax_acc) = plt.subplots(1, 2, figsize=(15,5))\nax_loss.plot(history.epoch, history.history[\"loss\"], label=\"Train loss\")\nax_loss.plot(history.epoch, history.history[\"val_loss\"], label=\"Validation loss\")\nax_acc.plot(history.epoch, history.history[\"acc\"], label=\"Train accuracy\")\nax_acc.plot(history.epoch, history.history[\"val_acc\"], label=\"Validation accuracy\")",
      "execution_count": null,
      "outputs": []
    },
    {
      "metadata": {
        "trusted": true,
        "_uuid": "a8157ae760a44160a3b1dc9867683c1a277c6f8a",
        "collapsed": true
      },
      "cell_type": "code",
      "source": "",
      "execution_count": null,
      "outputs": []
    },
    {
      "metadata": {
        "_uuid": "c824f6bca47f051500966c433ce7fb5a9528f6d7",
        "trusted": true,
        "collapsed": true
      },
      "cell_type": "code",
      "source": "model = load_model(\"./keras.wip.005.model\")\n#model = load_model(\"../submissions/0.758/keras.model\")",
      "execution_count": null,
      "outputs": []
    },
    {
      "metadata": {
        "_uuid": "0f168318eadb324daa8c020f0e3e0a24d82a464f"
      },
      "cell_type": "markdown",
      "source": "# Predict the validation set to do a sanity check\nAgain plot some sample images including the predictions."
    },
    {
      "metadata": {
        "_uuid": "16cbfe2fee11a8b13b96ce78161ce19b5e5a0c46",
        "trusted": true,
        "collapsed": true
      },
      "cell_type": "code",
      "source": "preds_valid = model.predict(x_valid).reshape(-1, img_size_target, img_size_target)\npreds_valid = np.array([downsample(x) for x in preds_valid])\ny_valid_ori = np.array([train_df.loc[idx].masks for idx in ids_valid])",
      "execution_count": null,
      "outputs": []
    },
    {
      "metadata": {
        "trusted": true,
        "_uuid": "b9d00b05a3d513df7954432c886152ecfee3c5f0",
        "collapsed": true
      },
      "cell_type": "code",
      "source": "for val_idx in range(2):\n    img_3_plot(x_valid[val_idx],preds_valid[val_idx],y_valid[val_idx],tit=\"val_idx=\"+str(val_idx))",
      "execution_count": null,
      "outputs": []
    },
    {
      "metadata": {
        "_uuid": "3b1198b6fb7369c3cfb70e68cd1b78d36aa188bc",
        "trusted": true,
        "collapsed": true
      },
      "cell_type": "code",
      "source": "max_images = 60\ngrid_width = 15\ngrid_height = int(max_images / grid_width)\nfig, axs = plt.subplots(grid_height, grid_width, figsize=(grid_width, grid_height))\nfor i, idx in enumerate(ids_valid[:max_images]):\n    img = train_df.loc[idx].images\n    mask = train_df.loc[idx].masks\n    pred = preds_valid[i]\n    ax = axs[int(i / grid_width), i % grid_width]\n    ax.imshow(img, cmap=\"Greys\")\n    ax.imshow(mask, alpha=0.3, cmap=\"Greens\")\n    ax.imshow(pred, alpha=0.3, cmap=\"OrRd\")\n    ax.text(1, img_size_ori-1, train_df.loc[idx].z, color=\"black\")\n    ax.text(img_size_ori - 1, 1, round(train_df.loc[idx].coverage, 2), color=\"black\", ha=\"right\", va=\"top\")\n    ax.text(1, 1, train_df.loc[idx].coverage_class, color=\"black\", ha=\"left\", va=\"top\")\n    ax.set_yticklabels([])\n    ax.set_xticklabels([])\nplt.suptitle(\"Green: salt, Red: prediction. Top-left: coverage class, top-right: salt coverage, bottom-left: depth\")",
      "execution_count": null,
      "outputs": []
    },
    {
      "metadata": {
        "_uuid": "fd973023204ebf921fe1f23748856e6a6f692aa4",
        "collapsed": true
      },
      "cell_type": "markdown",
      "source": "# Scoring\nScore the model and do a threshold optimization by the best IoU."
    },
    {
      "metadata": {
        "_uuid": "d261beec66b6867ac0d5c94684f12aa08b70d638",
        "trusted": true,
        "collapsed": true
      },
      "cell_type": "code",
      "source": "# src: https://www.kaggle.com/aglotero/another-iou-metric\ndef iou_metric(y_true_in, y_pred_in, print_table=False):\n    labels = y_true_in\n    y_pred = y_pred_in\n    \n    true_objects = 2\n    pred_objects = 2\n\n    intersection = np.histogram2d(labels.flatten(), y_pred.flatten(), bins=(true_objects, pred_objects))[0]\n\n    # Compute areas (needed for finding the union between all objects)\n    area_true = np.histogram(labels, bins = true_objects)[0]\n    area_pred = np.histogram(y_pred, bins = pred_objects)[0]\n    area_true = np.expand_dims(area_true, -1)\n    area_pred = np.expand_dims(area_pred, 0)\n\n    # Compute union\n    union = area_true + area_pred - intersection\n\n    # Exclude background from the analysis\n    intersection = intersection[1:,1:]\n    union = union[1:,1:]\n    union[union == 0] = 1e-9\n\n    # Compute the intersection over union\n    iou = intersection / union\n\n    # Precision helper function\n    def precision_at(threshold, iou):\n        matches = iou > threshold\n        true_positives = np.sum(matches, axis=1) == 1   # Correct objects\n        false_positives = np.sum(matches, axis=0) == 0  # Missed objects\n        false_negatives = np.sum(matches, axis=1) == 0  # Extra objects\n        tp, fp, fn = np.sum(true_positives), np.sum(false_positives), np.sum(false_negatives)\n        return tp, fp, fn\n\n    # Loop over IoU thresholds\n    prec = []\n    if print_table:\n        print(\"Thresh\\tTP\\tFP\\tFN\\tPrec.\")\n    for t in np.arange(0.5, 1.0, 0.05):\n        tp, fp, fn = precision_at(t, iou)\n        if (tp + fp + fn) > 0:\n            p = tp / (tp + fp + fn)\n        else:\n            p = 0\n        if print_table:\n            print(\"{:1.3f}\\t{}\\t{}\\t{}\\t{:1.3f}\".format(t, tp, fp, fn, p))\n        prec.append(p)\n    \n    if print_table:\n        print(\"AP\\t-\\t-\\t-\\t{:1.3f}\".format(np.mean(prec)))\n    return np.mean(prec)\n\ndef iou_metric_batch(y_true_in, y_pred_in):\n    batch_size = y_true_in.shape[0]\n    metric = []\n    for batch in range(batch_size):\n        value = iou_metric(y_true_in[batch], y_pred_in[batch])\n        metric.append(value)\n    return np.mean(metric)",
      "execution_count": null,
      "outputs": []
    },
    {
      "metadata": {
        "trusted": true,
        "_uuid": "a0a4d489b511f0334b5c5a7850bc450a424fb274",
        "collapsed": true
      },
      "cell_type": "code",
      "source": "",
      "execution_count": null,
      "outputs": []
    },
    {
      "metadata": {
        "trusted": true,
        "_uuid": "cdb0dcd4386327a994c266a42a7ffda746b8995d",
        "collapsed": true
      },
      "cell_type": "code",
      "source": "val_score = pd.DataFrame(index=range(preds_valid.shape[0]),columns=['iou','prec'])\nm = iou_metric_batch(y_valid_ori,preds_valid)\nprint(m)",
      "execution_count": null,
      "outputs": []
    },
    {
      "metadata": {
        "trusted": true,
        "_uuid": "08efe7eff6a81954d8f6b5a44b3d15373b08c8f5",
        "collapsed": true
      },
      "cell_type": "code",
      "source": "low_score_idx = val_score[np.abs(0.5-val_score)<0.05][0:10].index\n\nfor val_idx in low_score_idx:\n    img_3_plot(x_valid[val_idx],preds_valid[val_idx],y_valid[val_idx],tits=[\"Img\",\"Pred\",\"True\"],tit=val_score.score[val_idx])",
      "execution_count": null,
      "outputs": []
    },
    {
      "metadata": {
        "_uuid": "85f6d9567cec0ef8976730a6834b6569b6e108a0",
        "trusted": true,
        "collapsed": true
      },
      "cell_type": "code",
      "source": "thresholds = np.linspace(0, 1, 50)\nious = np.array([iou_metric_batch(y_valid_ori, np.int32(preds_valid > threshold)) for threshold in tqdm_notebook(thresholds)])",
      "execution_count": null,
      "outputs": []
    },
    {
      "metadata": {
        "_uuid": "183d37ad32bc2f1f0d17a9538702c45a826ccefc",
        "trusted": true,
        "collapsed": true
      },
      "cell_type": "code",
      "source": "threshold_best_index = np.argmax(ious[9:-10]) + 9\niou_best = ious[threshold_best_index]\nthreshold_best = thresholds[threshold_best_index]",
      "execution_count": null,
      "outputs": []
    },
    {
      "metadata": {
        "_uuid": "8ced29761f2d1760245112a30a7abd4783b373dd",
        "trusted": true,
        "collapsed": true
      },
      "cell_type": "code",
      "source": "plt.plot(thresholds, ious)\nplt.plot(threshold_best, iou_best, \"xr\", label=\"Best threshold\")\nplt.xlabel(\"Threshold\")\nplt.ylabel(\"IoU\")\nplt.title(\"Threshold vs IoU ({}, {})\".format(threshold_best, iou_best))\nplt.legend()",
      "execution_count": null,
      "outputs": []
    },
    {
      "metadata": {
        "trusted": true,
        "_uuid": "b9cbfa57ff6194346b7f97abe1a347abd48ee16e",
        "collapsed": true
      },
      "cell_type": "code",
      "source": "# Let's evaluate the iou and precision between:\n# y_valid, preds_valid\n# threshold to define the predicted mask: 0, 1\nthr = threshold_best\ntmp = []\nfor thr in np.arange(0.40,0.75,0.02):\n    pred_mask_valid = np.array(np.round(preds_valid > thr), dtype=np.float32)\n    ious = iou_clean_batch(y_valid_ori,pred_mask_valid)\n    precs= prec_clean_batch(y_valid_ori,pred_mask_valid)\n    coefs = np.zeros(ious.shape)\n    coefs[ious>=0.50] = 0.1\n    coefs[ious>=0.55] = 0.2\n    coefs[ious>=0.60] = 0.3\n    coefs[ious>=0.65] = 0.4\n    coefs[ious>=0.70] = 0.5\n    coefs[ious>=0.75] = 0.6\n    coefs[ious>=0.80] = 0.7\n    coefs[ious>=0.85] = 0.8\n    coefs[ious>=0.90] = 0.9\n    coefs[ious>=0.95] = 1.0\n    value = np.mean(precs*coefs)\n    tmp.append(value)\n    print(value)\n\nthr = threshold_best\npred_mask_valid = np.array(np.round(preds_valid > thr), dtype=np.float32)\nious = iou_clean_batch(y_valid_ori,pred_mask_valid)\nprecs= prec_clean_batch(y_valid_ori,pred_mask_valid)\ncoefs = np.zeros(ious.shape)\ncoefs[ious>=0.50] = 0.1\ncoefs[ious>=0.55] = 0.2\ncoefs[ious>=0.60] = 0.3\ncoefs[ious>=0.65] = 0.4\ncoefs[ious>=0.70] = 0.5\ncoefs[ious>=0.75] = 0.6\ncoefs[ious>=0.80] = 0.7\ncoefs[ious>=0.85] = 0.8\ncoefs[ious>=0.90] = 0.9\ncoefs[ious>=0.95] = 1.0\nvalue = np.mean(precs*coefs)\nprint(value)\n",
      "execution_count": null,
      "outputs": []
    },
    {
      "metadata": {
        "trusted": true,
        "_uuid": "4f2afecf3897d04bc46712a98a92a6be1ee369f7",
        "collapsed": true
      },
      "cell_type": "code",
      "source": "\n",
      "execution_count": null,
      "outputs": []
    },
    {
      "metadata": {
        "trusted": true,
        "_uuid": "4b0dd704ec2ae5258911dc7f32783084cb7eb8df",
        "collapsed": true
      },
      "cell_type": "code",
      "source": "",
      "execution_count": null,
      "outputs": []
    },
    {
      "metadata": {
        "trusted": true,
        "_uuid": "113d184d685aef0aed01f90cb546722458f23e52",
        "collapsed": true
      },
      "cell_type": "code",
      "source": "ix = 89\np = prec_clean(y_valid_ori[ix],pred_mask_valid[ix])\nio = iou_clean(y_valid_ori[ix],pred_mask_valid[ix])\n\nprint(p)\nprint(io)\n\nimg_3_plot(x_valid[ix],pred_mask_valid[ix],y_valid[ix],tit=\"val_idx=\"+str(ix),tits=[\"img\",\"pred\",\"true\"])",
      "execution_count": null,
      "outputs": []
    },
    {
      "metadata": {
        "_uuid": "423b3268c580dc1eae84f54deeeb0f691eff6028"
      },
      "cell_type": "markdown",
      "source": "# Another sanity check with adjusted threshold\nAgain some sample images with the adjusted threshold."
    },
    {
      "metadata": {
        "_uuid": "40c263765ac6d53a8c0c1361ff1e6f061eecf825",
        "trusted": true,
        "collapsed": true
      },
      "cell_type": "code",
      "source": "max_images = 60\ngrid_width = 15\ngrid_height = int(max_images / grid_width)\nfig, axs = plt.subplots(grid_height, grid_width, figsize=(grid_width, grid_height))\nfor i, idx in enumerate(ids_valid[:max_images]):\n    img = train_df.loc[idx].images\n    mask = train_df.loc[idx].masks\n    pred = preds_valid[i]\n    ax = axs[int(i / grid_width), i % grid_width]\n    ax.imshow(img, cmap=\"Greys\")\n    ax.imshow(mask, alpha=0.3, cmap=\"Greens\")\n    ax.imshow(np.array(np.round(pred > threshold_best), dtype=np.float32), alpha=0.3, cmap=\"OrRd\")\n    ax.text(1, img_size_ori-1, train_df.loc[idx].z, color=\"black\")\n    ax.text(img_size_ori - 1, 1, round(train_df.loc[idx].coverage, 2), color=\"black\", ha=\"right\", va=\"top\")\n    ax.text(1, 1, train_df.loc[idx].coverage_class, color=\"black\", ha=\"left\", va=\"top\")\n    ax.set_yticklabels([])\n    ax.set_xticklabels([])\nplt.suptitle(\"Green: salt, Red: prediction. Top-left: coverage class, top-right: salt coverage, bottom-left: depth\")",
      "execution_count": null,
      "outputs": []
    },
    {
      "metadata": {
        "_uuid": "332a614c0ae837c115ec6563f355753ffbb8cd83"
      },
      "cell_type": "markdown",
      "source": "# Submission\nLoad, predict and submit the test image predictions."
    },
    {
      "metadata": {
        "_uuid": "72128add82c6853441671fde67e7e66601a01787",
        "trusted": true,
        "collapsed": true
      },
      "cell_type": "code",
      "source": "# Source https://www.kaggle.com/bguberfain/unet-with-depth\ndef RLenc(img, order='F', format=True):\n    \"\"\"\n    img is binary mask image, shape (r,c)\n    order is down-then-right, i.e. Fortran\n    format determines if the order needs to be preformatted (according to submission rules) or not\n\n    returns run length as an array or string (if format is True)\n    \"\"\"\n    bytes = img.reshape(img.shape[0] * img.shape[1], order=order)\n    runs = []  ## list of run lengths\n    r = 0  ## the current run length\n    pos = 1  ## count starts from 1 per WK\n    for c in bytes:\n        if (c == 0):\n            if r != 0:\n                runs.append((pos, r))\n                pos += r\n                r = 0\n            pos += 1\n        else:\n            r += 1\n\n    # if last run is unsaved (i.e. data ends with 1)\n    if r != 0:\n        runs.append((pos, r))\n        pos += r\n        r = 0\n\n    if format:\n        z = ''\n\n        for rr in runs:\n            z += '{} {} '.format(rr[0], rr[1])\n        return z[:-1]\n    else:\n        return runs",
      "execution_count": null,
      "outputs": []
    },
    {
      "metadata": {
        "_uuid": "3ecb152b492c7126d12c5ef2c701eec8ea3d86f1",
        "scrolled": false,
        "trusted": true,
        "collapsed": true
      },
      "cell_type": "code",
      "source": "x_test = np.array([upsample(np.array(load_img(\"../input/test/images/{}.png\".format(idx), grayscale=True))) / 255 for idx in tqdm_notebook(test_df.index)]).reshape(-1, img_size_target, img_size_target, 1)",
      "execution_count": null,
      "outputs": []
    },
    {
      "metadata": {
        "_uuid": "f278d0b87320c117b4ed7c116a991782b82ba5a7",
        "trusted": true,
        "collapsed": true
      },
      "cell_type": "code",
      "source": "preds_test = model.predict(x_test)",
      "execution_count": null,
      "outputs": []
    },
    {
      "metadata": {
        "_uuid": "113f816f9db8b87ca7f6845fe6e61328ab606f41",
        "trusted": true,
        "collapsed": true
      },
      "cell_type": "code",
      "source": "pred_dict = {idx: RLenc(np.round(downsample(preds_test[i]) > threshold_best)) for i, idx in enumerate(tqdm_notebook(test_df.index.values))}",
      "execution_count": null,
      "outputs": []
    },
    {
      "metadata": {
        "_uuid": "4243166f91c4bcb4da00208f4f53dd912dbb429f",
        "trusted": true,
        "collapsed": true
      },
      "cell_type": "code",
      "source": "sub = pd.DataFrame.from_dict(pred_dict,orient='index')\nsub.index.names = ['id']\nsub.columns = ['rle_mask']\nsub.to_csv('submission.wip.005.csv')",
      "execution_count": null,
      "outputs": []
    },
    {
      "metadata": {
        "_uuid": "bd6ce9b4d5fc80a2502a43e80299d628fb5ffc42",
        "trusted": true,
        "collapsed": true
      },
      "cell_type": "code",
      "source": "",
      "execution_count": null,
      "outputs": []
    }
  ],
  "metadata": {
    "kernelspec": {
      "display_name": "Python 3",
      "language": "python",
      "name": "python3"
    },
    "language_info": {
      "name": "python",
      "version": "3.6.4",
      "mimetype": "text/x-python",
      "codemirror_mode": {
        "name": "ipython",
        "version": 3
      },
      "pygments_lexer": "ipython3",
      "nbconvert_exporter": "python",
      "file_extension": ".py"
    }
  },
  "nbformat": 4,
  "nbformat_minor": 1
}